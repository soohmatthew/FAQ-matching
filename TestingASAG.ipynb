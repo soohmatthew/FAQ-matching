{
 "cells": [
  {
   "cell_type": "code",
   "execution_count": 43,
   "metadata": {},
   "outputs": [],
   "source": [
    "from model import ASAG\n",
    "import os\n",
    "import numpy as np\n",
    "import pandas as pd\n",
    "import re\n",
    "import seaborn as sns\n",
    "import features.functional as F\n",
    "\n",
    "from sklearn.svm import SVC\n",
    "from sklearn import metrics\n",
    "from sklearn.discriminant_analysis import LinearDiscriminantAnalysis\n",
    "from sklearn.linear_model import LogisticRegression"
   ]
  },
  {
   "cell_type": "code",
   "execution_count": 18,
   "metadata": {},
   "outputs": [
    {
     "name": "stdout",
     "output_type": "stream",
     "text": [
      "The autoreload extension is already loaded. To reload it, use:\n",
      "  %reload_ext autoreload\n"
     ]
    }
   ],
   "source": [
    "%load_ext autoreload\n",
    "%autoreload 2"
   ]
  },
  {
   "cell_type": "code",
   "execution_count": 3,
   "metadata": {},
   "outputs": [],
   "source": [
    "asag = ASAG()"
   ]
  },
  {
   "cell_type": "code",
   "execution_count": 5,
   "metadata": {},
   "outputs": [
    {
     "name": "stderr",
     "output_type": "stream",
     "text": [
      "Generating Features: 100%|██████████| 76/76 [26:49<00:00, 21.18s/it]\n"
     ]
    },
    {
     "name": "stdout",
     "output_type": "stream",
     "text": [
      "Tuned Threshold: 0.42\n",
      "Accuracy:  0.8197831978319783\n",
      "F1:  0.6956521739130435\n",
      "Precision:  0.7004608294930875\n",
      "Recall:  0.6909090909090909\n",
      "Model Trained and Stored\n"
     ]
    }
   ],
   "source": [
    "asag.train_model()"
   ]
  },
  {
   "cell_type": "code",
   "execution_count": 6,
   "metadata": {},
   "outputs": [
    {
     "data": {
      "text/plain": [
       "array([0.05590925, 0.05935509, 0.07327595, 0.09064856, 0.03012222,\n",
       "       0.0097719 , 0.06578545, 0.05439038, 0.05587381, 0.08229999,\n",
       "       0.05852166, 0.11773256, 0.09941319, 0.04109756, 0.0488713 ,\n",
       "       0.05693112])"
      ]
     },
     "execution_count": 6,
     "metadata": {},
     "output_type": "execute_result"
    }
   ],
   "source": [
    "asag.classifier_model.feature_importances_"
   ]
  },
  {
   "cell_type": "code",
   "execution_count": 10,
   "metadata": {},
   "outputs": [],
   "source": [
    "# Get GIM Answers, Questions, Student Answers\n",
    "df_response = pd.read_excel('Data/10X Capital Worksheet (Marked).xlsx').iloc[:,3:].iloc[:,np.arange(0,20,2)]\n",
    "df_mark = pd.read_excel('Data/10X Capital Worksheet (Marked).xlsx').iloc[:,3:].iloc[:,np.arange(1,19,2)] # Only take for the first 9 questions\n",
    "df_answers = pd.read_excel('Data/Answers.xlsx')\n",
    "y_truth = pd.melt(df_mark).value.values\n",
    "gim_student_answers = [df_response.transpose().iloc[i,:].to_list() for i in range(10)]\n",
    "gim_reference_answers = df_answers.Answer.to_list()\n",
    "gim_questions = [re.sub(r'\\d+\\) ','',q) for q in df_response.columns.to_list()]"
   ]
  },
  {
   "cell_type": "code",
   "execution_count": 12,
   "metadata": {},
   "outputs": [
    {
     "name": "stderr",
     "output_type": "stream",
     "text": [
      "Generating Features: 100%|██████████| 9/9 [02:57<00:00, 19.76s/it]"
     ]
    },
    {
     "name": "stdout",
     "output_type": "stream",
     "text": [
      "Tuned Threshold: 0.21\n"
     ]
    },
    {
     "name": "stderr",
     "output_type": "stream",
     "text": [
      "\n"
     ]
    }
   ],
   "source": [
    "y_pred = asag.grade(gim_student_answers[:-1], gim_reference_answers[:-1], gim_questions[:-1], y_truth = y_truth)"
   ]
  },
  {
   "cell_type": "code",
   "execution_count": 45,
   "metadata": {},
   "outputs": [
    {
     "data": {
      "text/plain": [
       "0.375"
      ]
     },
     "execution_count": 45,
     "metadata": {},
     "output_type": "execute_result"
    }
   ],
   "source": [
    "threshold = F.tune_threshold(y_pred, y_truth, metrics.accuracy_score)"
   ]
  },
  {
   "cell_type": "code",
   "execution_count": 46,
   "metadata": {},
   "outputs": [
    {
     "name": "stdout",
     "output_type": "stream",
     "text": [
      "Accuracy:  0.6135265700483091\n",
      "F1:  0.6039603960396039\n",
      "Precision:  0.6224489795918368\n",
      "Recall:  0.5865384615384616\n"
     ]
    },
    {
     "data": {
      "text/plain": [
       "{'accuracy': 0.6135265700483091,\n",
       " 'f1': 0.6039603960396039,\n",
       " 'precision': 0.6224489795918368,\n",
       " 'recall': 0.5865384615384616}"
      ]
     },
     "execution_count": 46,
     "metadata": {},
     "output_type": "execute_result"
    }
   ],
   "source": [
    "F.get_metrics((y_pred[:,1] > threshold).astype(np.long), y_truth)"
   ]
  },
  {
   "cell_type": "code",
   "execution_count": 59,
   "metadata": {},
   "outputs": [
    {
     "name": "stdout",
     "output_type": "stream",
     "text": [
      "Question\n",
      "Why do low CAPEX companies have better growth prospects compared to high CAPEX companies? \n",
      "\n"
     ]
    },
    {
     "data": {
      "text/html": [
       "<div>\n",
       "<style scoped>\n",
       "    .dataframe tbody tr th:only-of-type {\n",
       "        vertical-align: middle;\n",
       "    }\n",
       "\n",
       "    .dataframe tbody tr th {\n",
       "        vertical-align: top;\n",
       "    }\n",
       "\n",
       "    .dataframe thead th {\n",
       "        text-align: right;\n",
       "    }\n",
       "</style>\n",
       "<table border=\"1\" class=\"dataframe\">\n",
       "  <thead>\n",
       "    <tr style=\"text-align: right;\">\n",
       "      <th></th>\n",
       "      <th>computer_grade</th>\n",
       "      <th>human_grade</th>\n",
       "      <th>student_answer</th>\n",
       "    </tr>\n",
       "  </thead>\n",
       "  <tbody>\n",
       "    <tr>\n",
       "      <th>1</th>\n",
       "      <td>1</td>\n",
       "      <td>0</td>\n",
       "      <td>Lesser capital is needed to maintain the exist...</td>\n",
       "    </tr>\n",
       "    <tr>\n",
       "      <th>3</th>\n",
       "      <td>1</td>\n",
       "      <td>0</td>\n",
       "      <td>It means that they required lower maintenance ...</td>\n",
       "    </tr>\n",
       "    <tr>\n",
       "      <th>6</th>\n",
       "      <td>1</td>\n",
       "      <td>0</td>\n",
       "      <td>It is because in low CAPEX companies, whatever...</td>\n",
       "    </tr>\n",
       "    <tr>\n",
       "      <th>10</th>\n",
       "      <td>0</td>\n",
       "      <td>1</td>\n",
       "      <td>Like airlines (hard to sustain during covid pe...</td>\n",
       "    </tr>\n",
       "    <tr>\n",
       "      <th>11</th>\n",
       "      <td>1</td>\n",
       "      <td>0</td>\n",
       "      <td>Because they will less likely to be cash - str...</td>\n",
       "    </tr>\n",
       "    <tr>\n",
       "      <th>16</th>\n",
       "      <td>1</td>\n",
       "      <td>0</td>\n",
       "      <td>I would say more FCF can be generated and with...</td>\n",
       "    </tr>\n",
       "    <tr>\n",
       "      <th>17</th>\n",
       "      <td>0</td>\n",
       "      <td>1</td>\n",
       "      <td>Because they will have higher FCF, allowing it...</td>\n",
       "    </tr>\n",
       "    <tr>\n",
       "      <th>18</th>\n",
       "      <td>0</td>\n",
       "      <td>1</td>\n",
       "      <td>The low capex requirement means that more earn...</td>\n",
       "    </tr>\n",
       "  </tbody>\n",
       "</table>\n",
       "</div>"
      ],
      "text/plain": [
       "    computer_grade  human_grade  \\\n",
       "1                1            0   \n",
       "3                1            0   \n",
       "6                1            0   \n",
       "10               0            1   \n",
       "11               1            0   \n",
       "16               1            0   \n",
       "17               0            1   \n",
       "18               0            1   \n",
       "\n",
       "                                       student_answer  \n",
       "1   Lesser capital is needed to maintain the exist...  \n",
       "3   It means that they required lower maintenance ...  \n",
       "6   It is because in low CAPEX companies, whatever...  \n",
       "10  Like airlines (hard to sustain during covid pe...  \n",
       "11  Because they will less likely to be cash - str...  \n",
       "16  I would say more FCF can be generated and with...  \n",
       "17  Because they will have higher FCF, allowing it...  \n",
       "18  The low capex requirement means that more earn...  "
      ]
     },
     "metadata": {},
     "output_type": "display_data"
    },
    {
     "name": "stdout",
     "output_type": "stream",
     "text": [
      "\n",
      "Reference Answer\n",
      "Because low CAPEX companies do not need to spend much on CAPEX, they have more Free Cash flow available for them to invest in future growth projects or plans.\n"
     ]
    }
   ],
   "source": [
    "q = 6\n",
    "print('Question')\n",
    "print(gim_questions[q],'\\n')\n",
    "\n",
    "df = []\n",
    "for idx, score in enumerate((y_pred[:,1])[22*q:22*(q+1)]):\n",
    "    row = dict(\n",
    "        computer_grade = 1 if score>0.375 else 0,\n",
    "        human_grade = y_truth[22*q:22*(q+1)][idx],\n",
    "        student_answer = gim_student_answers[q][idx]\n",
    "    )\n",
    "    df.append(row)\n",
    "\n",
    "df = pd.DataFrame(df)\n",
    "display(df[df.computer_grade != df.human_grade])\n",
    "\n",
    "print('\\nReference Answer')\n",
    "print(gim_reference_answers[q])"
   ]
  },
  {
   "cell_type": "code",
   "execution_count": 38,
   "metadata": {},
   "outputs": [
    {
     "name": "stdout",
     "output_type": "stream",
     "text": [
      "3.815748743741325\n",
      "3.8786952411875335\n",
      "2.7324730403155453\n"
     ]
    },
    {
     "data": {
      "image/png": "[encoded data removed]",
      "text/plain": [
       "<Figure size 432x288 with 1 Axes>"
      ]
     },
     "metadata": {
      "needs_background": "light"
     },
     "output_type": "display_data"
    }
   ],
   "source": [
    "sns.distplot(y_pred[:,1]*10)\n",
    "print(y_pred[:,1].mean()*10)\n",
    "print(np.percentile(y_pred[:,1]*10,55))\n",
    "print(np.percentile(y_pred[:,1]*10,25))"
   ]
  },
  {
   "cell_type": "code",
   "execution_count": null,
   "metadata": {},
   "outputs": [],
   "source": []
  }
 ],
 "metadata": {
  "kernelspec": {
   "display_name": "Python 3",
   "language": "python",
   "name": "python3"
  },
  "language_info": {
   "codemirror_mode": {
    "name": "ipython",
    "version": 3
   },
   "file_extension": ".py",
   "mimetype": "text/x-python",
   "name": "python",
   "nbconvert_exporter": "python",
   "pygments_lexer": "ipython3",
   "version": "3.7.6"
  }
 },
 "nbformat": 4,
 "nbformat_minor": 4
}
